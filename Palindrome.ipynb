{
 "cells": [
  {
   "cell_type": "markdown",
   "id": "5565627a",
   "metadata": {},
   "source": [
    "# Palindrome\n",
    "\n",
    "<b>What is a palindrome ?</b> <br/>\n",
    "a word, phrase, or sequence that reads the same backwards as forwards, e.g. madam or nurses run. <br/><br/>\n",
    "Source : Google <br/>\n",
    "\n",
    "<b>Approaches :</b>\n",
    "- The Hard Way (Non Pythonic Way)\n",
    "- The Easy Way (Pythonic Way)"
   ]
  },
  {
   "cell_type": "markdown",
   "id": "6ee91b0b",
   "metadata": {},
   "source": [
    "##### The Hard Way (Non Pythonic Way)"
   ]
  },
  {
   "cell_type": "code",
   "execution_count": 25,
   "id": "30521c8e",
   "metadata": {},
   "outputs": [],
   "source": [
    "n = 901209"
   ]
  },
  {
   "cell_type": "code",
   "execution_count": 26,
   "id": "fa0b00ab",
   "metadata": {},
   "outputs": [
    {
     "name": "stdout",
     "output_type": "stream",
     "text": [
      "9\n",
      "0\n",
      "2\n",
      "1\n",
      "0\n",
      "9\n"
     ]
    }
   ],
   "source": [
    "while(n > 0):\n",
    "    remainder = n % 10\n",
    "    print(remainder)\n",
    "    n = n // 10"
   ]
  },
  {
   "cell_type": "code",
   "execution_count": 31,
   "id": "a444c27b",
   "metadata": {},
   "outputs": [
    {
     "name": "stdout",
     "output_type": "stream",
     "text": [
      "9\n",
      "90\n",
      "902\n",
      "9021\n",
      "90210\n",
      "902109\n"
     ]
    }
   ],
   "source": [
    "n = 901209\n",
    "result = 0\n",
    "\n",
    "n_old = n\n",
    "\n",
    "while(n > 0):\n",
    "    remainder = n % 10\n",
    "    result = result * 10 + remainder\n",
    "    print(result)\n",
    "    n = n // 10"
   ]
  },
  {
   "cell_type": "code",
   "execution_count": 32,
   "id": "600d172d",
   "metadata": {},
   "outputs": [
    {
     "data": {
      "text/plain": [
       "902109"
      ]
     },
     "execution_count": 32,
     "metadata": {},
     "output_type": "execute_result"
    }
   ],
   "source": [
    "result"
   ]
  },
  {
   "cell_type": "code",
   "execution_count": 34,
   "id": "1e0d369c",
   "metadata": {},
   "outputs": [
    {
     "data": {
      "text/plain": [
       "False"
      ]
     },
     "execution_count": 34,
     "metadata": {},
     "output_type": "execute_result"
    }
   ],
   "source": [
    "n_old == result"
   ]
  },
  {
   "cell_type": "markdown",
   "id": "734e929c",
   "metadata": {},
   "source": [
    "##### The Easy Way (Pythonic Way)"
   ]
  },
  {
   "cell_type": "markdown",
   "id": "d5ed72e0",
   "metadata": {},
   "source": [
    "##### String Palindrome Check"
   ]
  },
  {
   "cell_type": "code",
   "execution_count": 4,
   "id": "687cd792",
   "metadata": {},
   "outputs": [
    {
     "data": {
      "text/plain": [
       "True"
      ]
     },
     "execution_count": 4,
     "metadata": {},
     "output_type": "execute_result"
    }
   ],
   "source": [
    "s = \"90109\"\n",
    "s[::-1] == s"
   ]
  },
  {
   "cell_type": "code",
   "execution_count": 5,
   "id": "fea9f2d0",
   "metadata": {},
   "outputs": [
    {
     "data": {
      "text/plain": [
       "False"
      ]
     },
     "execution_count": 5,
     "metadata": {},
     "output_type": "execute_result"
    }
   ],
   "source": [
    "s = \"901209\"\n",
    "s[::-1] == s"
   ]
  },
  {
   "cell_type": "markdown",
   "id": "a67ef344",
   "metadata": {},
   "source": [
    "##### Int Palindrome Check"
   ]
  },
  {
   "cell_type": "code",
   "execution_count": 9,
   "id": "3728cb29",
   "metadata": {},
   "outputs": [
    {
     "data": {
      "text/plain": [
       "False"
      ]
     },
     "execution_count": 9,
     "metadata": {},
     "output_type": "execute_result"
    }
   ],
   "source": [
    "s = 901209\n",
    "str(s)[::-1] == str(s)"
   ]
  },
  {
   "cell_type": "code",
   "execution_count": 10,
   "id": "5ac28d86",
   "metadata": {},
   "outputs": [
    {
     "data": {
      "text/plain": [
       "901209"
      ]
     },
     "execution_count": 10,
     "metadata": {},
     "output_type": "execute_result"
    }
   ],
   "source": [
    "s"
   ]
  },
  {
   "cell_type": "markdown",
   "id": "833ac8e1",
   "metadata": {},
   "source": [
    "##### Float Palindrome Check"
   ]
  },
  {
   "cell_type": "code",
   "execution_count": 20,
   "id": "743a250d",
   "metadata": {},
   "outputs": [],
   "source": [
    "a = 90.01\n",
    "b = 123.321"
   ]
  },
  {
   "cell_type": "code",
   "execution_count": 21,
   "id": "797f7576",
   "metadata": {},
   "outputs": [
    {
     "data": {
      "text/plain": [
       "False"
      ]
     },
     "execution_count": 21,
     "metadata": {},
     "output_type": "execute_result"
    }
   ],
   "source": [
    "str(a)[::-1] == str(a)"
   ]
  },
  {
   "cell_type": "code",
   "execution_count": 22,
   "id": "2c3b8b58",
   "metadata": {},
   "outputs": [
    {
     "data": {
      "text/plain": [
       "True"
      ]
     },
     "execution_count": 22,
     "metadata": {},
     "output_type": "execute_result"
    }
   ],
   "source": [
    "str(b)[::-1] == str(b)"
   ]
  },
  {
   "cell_type": "code",
   "execution_count": null,
   "id": "4c814cff",
   "metadata": {},
   "outputs": [],
   "source": []
  }
 ],
 "metadata": {
  "kernelspec": {
   "display_name": "Python 3",
   "language": "python",
   "name": "python3"
  },
  "language_info": {
   "codemirror_mode": {
    "name": "ipython",
    "version": 3
   },
   "file_extension": ".py",
   "mimetype": "text/x-python",
   "name": "python",
   "nbconvert_exporter": "python",
   "pygments_lexer": "ipython3",
   "version": "3.8.8"
  }
 },
 "nbformat": 4,
 "nbformat_minor": 5
}
