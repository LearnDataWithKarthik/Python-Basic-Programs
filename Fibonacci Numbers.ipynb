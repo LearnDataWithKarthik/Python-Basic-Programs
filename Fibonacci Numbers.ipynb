{
 "cells": [
  {
   "cell_type": "markdown",
   "id": "0c82735c",
   "metadata": {},
   "source": [
    "# Fibonacci Numbers\n",
    "\n",
    "<b>What are Fibonacci Numbers ?</b> <br/>\n",
    "A sequence, such that each number is the sum of the two preceding ones, starting from 0 and 1 and n > 1. <br/>\n",
    "Example : 0, 1, 1, 2, 3, 5, 8, 13, ....<br/>\n",
    "\n",
    "Source : Wikipedia <br/>\n",
    "\n",
    "<b>Approaches :</b>\n",
    "- Traditional Way\n",
    "- Recursion\n",
    "- Dynamic Programming"
   ]
  },
  {
   "cell_type": "markdown",
   "id": "b0888cfe",
   "metadata": {},
   "source": [
    "### Traditional Way"
   ]
  },
  {
   "cell_type": "code",
   "execution_count": 34,
   "id": "d0758c7f",
   "metadata": {},
   "outputs": [
    {
     "name": "stdout",
     "output_type": "stream",
     "text": [
      "1\n",
      "2\n",
      "3\n",
      "5\n",
      "8\n"
     ]
    }
   ],
   "source": [
    "a = 0\n",
    "b = 1\n",
    "\n",
    "n = 5\n",
    "\n",
    "while n > 0:\n",
    "    c = a + b\n",
    "    print(c)\n",
    "    a = b\n",
    "    b = c\n",
    "    n = n - 1"
   ]
  },
  {
   "cell_type": "markdown",
   "id": "25f04b15",
   "metadata": {},
   "source": [
    "### Recursion"
   ]
  },
  {
   "cell_type": "code",
   "execution_count": 35,
   "id": "4ef13442",
   "metadata": {},
   "outputs": [],
   "source": [
    "def fibonacci(n):    \n",
    "    if n == 0:\n",
    "        return 0\n",
    "    elif n == 1:\n",
    "        return 1\n",
    "    else:\n",
    "        tmp = fibonacci(n-1) + fibonacci(n-2) # c = b + a\n",
    "        return tmp"
   ]
  },
  {
   "cell_type": "code",
   "execution_count": 37,
   "id": "d486eccb",
   "metadata": {},
   "outputs": [
    {
     "data": {
      "text/plain": [
       "5"
      ]
     },
     "execution_count": 37,
     "metadata": {},
     "output_type": "execute_result"
    }
   ],
   "source": [
    "fibonacci(5)"
   ]
  },
  {
   "cell_type": "markdown",
   "id": "a87b39ac",
   "metadata": {},
   "source": [
    "1,2,3,5,8,13,21"
   ]
  },
  {
   "cell_type": "code",
   "execution_count": 38,
   "id": "356fb39e",
   "metadata": {},
   "outputs": [],
   "source": [
    "def smart_fibonacci(func):\n",
    "    def inner(n):\n",
    "        m = n + 1 \n",
    "        return func(m)\n",
    "    return inner"
   ]
  },
  {
   "cell_type": "code",
   "execution_count": 39,
   "id": "0bf5527c",
   "metadata": {},
   "outputs": [],
   "source": [
    "fibonacci_2 = smart_fibonacci(fibonacci)"
   ]
  },
  {
   "cell_type": "code",
   "execution_count": 40,
   "id": "9c808489",
   "metadata": {},
   "outputs": [
    {
     "data": {
      "text/plain": [
       "8"
      ]
     },
     "execution_count": 40,
     "metadata": {},
     "output_type": "execute_result"
    }
   ],
   "source": [
    "fibonacci_2(5)"
   ]
  },
  {
   "cell_type": "markdown",
   "id": "84a9dea2",
   "metadata": {},
   "source": [
    "### Dynamic Programming"
   ]
  },
  {
   "cell_type": "code",
   "execution_count": 41,
   "id": "43c20566",
   "metadata": {},
   "outputs": [
    {
     "data": {
      "text/plain": [
       "[0, 1, 1, 2, 3, 5, 8]"
      ]
     },
     "execution_count": 41,
     "metadata": {},
     "output_type": "execute_result"
    }
   ],
   "source": [
    "n = 5\n",
    "\n",
    "fibonacci_list = [0,1]\n",
    "\n",
    "for i in range(2, n+2):\n",
    "    fibonacci_list.append(fibonacci_list[-1] + fibonacci_list[-2])\n",
    "\n",
    "fibonacci_list"
   ]
  },
  {
   "cell_type": "code",
   "execution_count": 42,
   "id": "528c6289",
   "metadata": {},
   "outputs": [
    {
     "data": {
      "text/plain": [
       "[1, 2, 3, 5, 8]"
      ]
     },
     "execution_count": 42,
     "metadata": {},
     "output_type": "execute_result"
    }
   ],
   "source": [
    "fibonacci_list.pop(0)\n",
    "fibonacci_list.pop(0)\n",
    "\n",
    "fibonacci_list"
   ]
  },
  {
   "cell_type": "code",
   "execution_count": null,
   "id": "7db9d211",
   "metadata": {},
   "outputs": [],
   "source": []
  }
 ],
 "metadata": {
  "kernelspec": {
   "display_name": "Python 3",
   "language": "python",
   "name": "python3"
  },
  "language_info": {
   "codemirror_mode": {
    "name": "ipython",
    "version": 3
   },
   "file_extension": ".py",
   "mimetype": "text/x-python",
   "name": "python",
   "nbconvert_exporter": "python",
   "pygments_lexer": "ipython3",
   "version": "3.8.8"
  }
 },
 "nbformat": 4,
 "nbformat_minor": 5
}
